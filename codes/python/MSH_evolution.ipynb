{
 "cells": [
  {
   "cell_type": "code",
   "execution_count": 1,
   "metadata": {},
   "outputs": [],
   "source": [
    "import numpy as np\n",
    "import matplotlib.pyplot as plt\n",
    "import scipy as sp\n",
    "from matplotlib.animation import FuncAnimation\n",
    "import matplotlib.animation as animation\n",
    "\n",
    "plt.rcParams['text.usetex'] = True\n",
    "plt.rcParams.update({'font.size': 15})"
   ]
  },
  {
   "cell_type": "markdown",
   "metadata": {},
   "source": [
    "We will take the Chebyshev differentiation matrix."
   ]
  },
  {
   "cell_type": "code",
   "execution_count": 2,
   "metadata": {},
   "outputs": [],
   "source": [
    "def cheb(Ncheb, a, b):\n",
    "    x = np.cos(np.pi * np.arange(Ncheb + 1) / Ncheb)\n",
    "    t = 0.5 * (a + b) + 0.5 * (b - a) * x  \n",
    "\n",
    "    c = np.ones(Ncheb + 1)\n",
    "    c[0] = c[-1] = 2.\n",
    "    c = c * (-1)**np.arange(Ncheb + 1)\n",
    "\n",
    "    X = np.tile(x, (Ncheb + 1, 1)).T\n",
    "    dX = X - X.T\n",
    "\n",
    "    D = (c[:, None] / c[None, :]) / (dX + np.eye(Ncheb + 1))\n",
    "    np.fill_diagonal(D, 0.0)\n",
    "    D[np.diag_indices_from(D)] = -np.sum(D, axis=1)\n",
    "\n",
    "    Dcheb = (2.0 / (b - a)) * D\n",
    "\n",
    "    return Dcheb, t\n"
   ]
  },
  {
   "cell_type": "markdown",
   "metadata": {},
   "source": [
    "We specify the initial quantities for the background "
   ]
  },
  {
   "cell_type": "code",
   "execution_count": 3,
   "metadata": {},
   "outputs": [],
   "source": [
    "w = 1/3.                        #equation of state parameter\n",
    "fw = 3*(1+w)/(5+3*w)\n",
    "\n",
    "dt0 = 10**(-3.)\n",
    "t0 = 1.                         #initial time\n",
    "tf = 80000.                     #final time\n",
    "a0 = 1.                         #initial scale factor\n",
    "H0 = 2./(3*(1.+w)*t0)             #initial Hubble parameter\n",
    "rho_b0 = (3*H0**2)/(8*np.pi)       #initial density \n",
    "r_H0 = 1/H0                     #initial Hubble radius"
   ]
  },
  {
   "cell_type": "markdown",
   "metadata": {},
   "source": [
    "The small parameter $\\epsilon$ was defined as the ratio between the initial Hubble radius and the lengthscale of the perturbation:\n",
    "\n",
    "$$\\epsilon=\\frac{R_H}{ar_m}$$"
   ]
  },
  {
   "cell_type": "code",
   "execution_count": 4,
   "metadata": {},
   "outputs": [],
   "source": [
    "init_rm_N = 10\n",
    "r_m = init_rm_N * r_H0\n",
    "eps = r_H0/(a0*r_m)"
   ]
  },
  {
   "cell_type": "markdown",
   "metadata": {},
   "source": [
    "Let's create the universe. We want the size to be some $N$ factor greater than the initial Hubble radius."
   ]
  },
  {
   "cell_type": "code",
   "execution_count": 5,
   "metadata": {},
   "outputs": [],
   "source": [
    "N_H = 90.\n",
    "r_init = 0.\n",
    "r_f = N_H*r_H0\n",
    "\n",
    "N_cheb = 400                                    # number of collocation points\n",
    "D_mat, r_vals = cheb(N_cheb, r_init, r_f)       # derivative matrix and collocation points\n",
    "\n",
    "vector_ones = np.ones(N_cheb+1)                 # vector of ones"
   ]
  },
  {
   "cell_type": "markdown",
   "metadata": {},
   "source": [
    "Initialize FRW background solutions"
   ]
  },
  {
   "cell_type": "code",
   "execution_count": 6,
   "metadata": {},
   "outputs": [],
   "source": [
    "def rho_bg(t):\n",
    "        return vector_ones*rho_b0*(t0/t)**2\n",
    "\n",
    "def bg_sol(t):\n",
    "    rho_FRW = rho_bg(t)                    \n",
    "    wexp = 2./(3.*(1+w))\n",
    "    a_FRW = a0*(t/t0)**wexp\n",
    "    adot_FRW = (wexp/t0)*a0*(t/t0)**(wexp-1)\n",
    "    H_FRW = adot_FRW/a_FRW\n",
    "    A_FRW = 1.*vector_ones\n",
    "    B_FRW = r_vals*a_FRW\n",
    "    R_FRW = r_vals*a_FRW\n",
    "    U_FRW = r_vals*adot_FRW\n",
    "    M_FRW = (4.*np.pi*rho_FRW*R_FRW**3)/3.\n",
    "    G_FRW = 1.*vector_ones\n",
    "    return a_FRW, H_FRW, A_FRW, B_FRW, R_FRW, U_FRW, M_FRW, G_FRW"
   ]
  },
  {
   "cell_type": "markdown",
   "metadata": {},
   "source": [
    "The relevant set of differential equations is given by the Misner-sharp equations:\n",
    "\n",
    "\\begin{align*}\n",
    "\\dot{U} &= -A \\left[ \\frac{w}{1+w} \\frac{\\Gamma^2}{\\rho} \\frac{\\rho'}{R'} + \\frac{M}{R^2} + 4\\pi R w \\rho \\right], \\\\\n",
    "\\dot{R} &= AU, \\\\\n",
    "\\dot{\\rho} &= -A \\rho (1 + w) \\left( \\frac{2U}{R} + \\frac{U'}{R'} \\right), \\\\\n",
    "\\dot{M} &= -4\\pi A w \\rho U R^2,\n",
    "\\end{align*}\n",
    "\n",
    "We will solve this using the 4th order Runge-Kutta Method. First, we will define useful intermediate functions that we can tweak later on."
   ]
  },
  {
   "cell_type": "code",
   "execution_count": 7,
   "metadata": {},
   "outputs": [],
   "source": [
    "def spatial_dev(R, rho, U):\n",
    "    R_dev = D_mat @ R\n",
    "    rho_dev = D_mat @ rho\n",
    "    U_dev = D_mat @ U\n",
    "\n",
    "    return R_dev, rho_dev, U_dev"
   ]
  },
  {
   "cell_type": "markdown",
   "metadata": {},
   "source": [
    "We already know the exact solution for $A$."
   ]
  },
  {
   "cell_type": "code",
   "execution_count": 8,
   "metadata": {},
   "outputs": [],
   "source": [
    "def static_sol(R, rho, U, M, rho_FRW):\n",
    "    \n",
    "    A = 1.*(rho_FRW/rho)**(w/(w+1.))\n",
    "    frac_g = M[:-1]/R[:-1]                                  #exclude the final value\n",
    "    frac_g = np.insert(frac_g, len(frac_g), 0.)              #replace with 0\n",
    "    Gamma = np.sqrt(1 + U**2 - 2.*frac_g)          #gamma factor\n",
    "    \n",
    "    return A, Gamma\n"
   ]
  },
  {
   "cell_type": "markdown",
   "metadata": {},
   "source": [
    "The form of ODEs in MSH equations are of the form\n",
    "\n",
    "$$\\frac{\\text{d}y}{\\text{d}t}=f(A,R,\\rho,U,M,R',\\rho',U').$$\n",
    "\n",
    "We will create a function that spits out each $f$ for each ODE in the MSH equations."
   ]
  },
  {
   "cell_type": "code",
   "execution_count": 9,
   "metadata": {},
   "outputs": [],
   "source": [
    "def dot_quants(A, R, rho, U, M, R_r, rho_r, U_r, Gamma):\n",
    "\n",
    "        frac_devUR = U_r/R_r\n",
    "\n",
    "        frac_UR = U[:-1]/R[:-1]\n",
    "        frac_UR = np.insert(frac_UR, len(frac_UR), frac_devUR[-1])\n",
    "\n",
    "        frac_MRsq = M[:-1]/R[:-1]**2\n",
    "        frac_MRsq = np.insert(frac_MRsq, len(frac_MRsq), 0.)\n",
    "\n",
    "        U_dot = -A * ( (w / (1. + w)) * (Gamma**2 / rho) * (rho_r / R_r) + frac_MRsq + 4. * np.pi * R * w * rho )\n",
    "        R_dot = A * U\n",
    "        rho_dot = -A * rho * (1. + w) * (2. * frac_UR + frac_devUR)\n",
    "        M_dot = -4. * np.pi * A * w * rho * U * R**2\n",
    "\n",
    "        return R_dot, rho_dot, U_dot, M_dot "
   ]
  },
  {
   "cell_type": "markdown",
   "metadata": {},
   "source": [
    "We will now define a function that packages one Runge-Kutta step of $A, R, \\rho, U,$ and $M$."
   ]
  },
  {
   "cell_type": "code",
   "execution_count": 10,
   "metadata": {},
   "outputs": [],
   "source": [
    "def rk4_step(A, R, rho, U, M, R_r, rho_r, U_r, Gamma, t, dt):\n",
    "    \n",
    "    k1_R, k1_rho, k1_U, k1_M = dot_quants(A, R, rho, U, M, R_r, rho_r, U_r, Gamma)\n",
    "\n",
    "    R1 = R + 0.5*dt * k1_R\n",
    "    rho1 = rho + 0.5*dt * k1_rho\n",
    "    U1 = U + 0.5*dt * k1_U\n",
    "    M1 = M + 0.5*dt * k1_M\n",
    "\n",
    "    R1[-1] = 0.\n",
    "    U1[-1] = 0.\n",
    "    M1[-1] = 0.\n",
    "\n",
    "    R_r1, rho_r1, U_r1 = spatial_dev(R1, rho1, U1)\n",
    "    rho_r1[0] = 0.\n",
    "    rho_r1[-1] = 0.\n",
    "\n",
    "    rho_FRW1 = rho_bg(t + 0.5*dt)\n",
    "\n",
    "    A1, Gamma1 = static_sol(R1, rho1, U1, M1, rho_FRW1)\n",
    "    k2_R, k2_rho, k2_U, k2_M = dot_quants(A1, R1, rho1, U1, M1, R_r1, rho_r1, U_r1, Gamma1)\n",
    "\n",
    "    R2 = R + 0.5*dt * k2_R\n",
    "    rho2 = rho + 0.5*dt * k2_rho\n",
    "    U2 = U + 0.5*dt * k2_U\n",
    "    M2 = M + 0.5*dt * k2_M\n",
    "\n",
    "    R2[-1] = 0.\n",
    "    U2[-1] = 0.\n",
    "    M2[-1] = 0.\n",
    "\n",
    "    R_r2, rho_r2, U_r2 = spatial_dev(R2, rho2, U2)\n",
    "    rho_r2[0] = 0.\n",
    "    rho_r2[-1] = 0.\n",
    "\n",
    "    rho_FRW2 = rho_bg(t + 0.5*dt)\n",
    "\n",
    "    A2, Gamma2 = static_sol(R2, rho2, U2, M2, rho_FRW2)\n",
    "    k3_R, k3_rho, k3_U, k3_M = dot_quants(A2, R2, rho2, U2, M2, R_r2, rho_r2, U_r2, Gamma2)\n",
    "\n",
    "    R3 = R + dt * k3_R\n",
    "    rho3 = rho + dt * k3_rho\n",
    "    U3 = U + dt * k3_U\n",
    "    M3 = M + dt * k3_M\n",
    "\n",
    "    R3[-1] = 0.\n",
    "    U3[-1] = 0.\n",
    "    M3[-1] = 0.\n",
    "\n",
    "    R_r3, rho_r3, U_r3 = spatial_dev(R3, rho3, U3)\n",
    "    rho_r3[0] = 0.\n",
    "    rho_r3[-1] = 0.\n",
    "\n",
    "    rho_FRW3 = rho_bg(t + dt)\n",
    "    \n",
    "    A3, Gamma3 = static_sol(R3, rho3, U3, M3, rho_FRW3)\n",
    "    k4_R, k4_rho, k4_U, k4_M = dot_quants(A3, R3, rho3, U3, M3, R_r3, rho_r3, U_r3, Gamma3)\n",
    "    \n",
    "    R_new = R + dt/6. * (k1_R + 2.*k2_R + 2.*k3_R + k4_R)\n",
    "    rho_new = rho + dt/6. * (k1_rho + 2.*k2_rho + 2.*k3_rho + k4_rho)\n",
    "    U_new = U + dt/6. * (k1_U + 2.*k2_U + 2.*k3_U + k4_U)\n",
    "    M_new = M + dt/6. * (k1_M + 2.*k2_M + 2.*k3_M + k4_M)\n",
    "    \n",
    "    return R_new, rho_new, U_new, M_new"
   ]
  },
  {
   "cell_type": "markdown",
   "metadata": {},
   "source": [
    "If one needs to construct a consistent set of initial conditions for all $r$ and $t$, the MSE must be solved analytically. We do not have this luxury. We need to make a long wavelength approximation and set our initial conditions for large $r$. We must first choose our curvature profile. We initially choose it to be Gaussian."
   ]
  },
  {
   "cell_type": "code",
   "execution_count": 11,
   "metadata": {},
   "outputs": [],
   "source": [
    "def K(r, amp):\n",
    "    return amp*np.exp(-r**2/r_m**2)\n",
    "\n",
    "def K_prime(r, amp):\n",
    "    return -2*amp*r*np.exp(-r**2/r_m**2)/(r_m**2)"
   ]
  },
  {
   "cell_type": "markdown",
   "metadata": {},
   "source": [
    "With this, we generate the initial conditions for long-wavelength solutions."
   ]
  },
  {
   "cell_type": "code",
   "execution_count": 12,
   "metadata": {},
   "outputs": [],
   "source": [
    "def init_perturbations(r, amp):\n",
    "\n",
    "    a_FRW, H_FRW, _, _, _, _, _, _ = bg_sol(t0)\n",
    "\n",
    "    rho_FRW = rho_bg(t0)\n",
    "    \n",
    "    rho_tilde = (3.*(1+w)/(5.+3.*w))*(K(r, amp)+r*K_prime(r, amp)/3.)*r_m**2\n",
    "    U_tilde = -1. / (5. + 3. * w)* K(r, amp) * r_m**2\n",
    "\n",
    "    A_tilde = -w / (1. + w)* rho_tilde\n",
    "    M_tilde = -3. * (1. + w)* U_tilde\n",
    "    R_tilde = -w / ((1. + 3. * w) * (1 + w)) * rho_tilde + 1. / (1. + 3. * w) * U_tilde\n",
    "\n",
    "\n",
    "    A_full = 1. + eps**2 * A_tilde\n",
    "    R_full = a_FRW * r * (1. + (eps**2) * R_tilde)\n",
    "    rho_full = rho_FRW * (1.+(eps**2)*rho_tilde)\n",
    "    U_full = H_FRW * R_full * (1. + (eps**2) * U_tilde)\n",
    "    M_full = (4.*np.pi/3.) * rho_FRW * R_full**3 * (1. + (eps**2) * M_tilde)\n",
    "\n",
    "    frac_MR = M_full[:-1] / R_full[:-1]\n",
    "    frac_MR = np.insert(frac_MR, len(frac_MR), 0.)  #replace with 0\n",
    "\n",
    "    G_full = np.sqrt(1.*vector_ones + U_full**2 - 2.*frac_MR)  \n",
    "\n",
    "    return A_full, R_full, rho_full, U_full, M_full, G_full"
   ]
  },
  {
   "cell_type": "markdown",
   "metadata": {},
   "source": [
    "Now we want to evolve our system. "
   ]
  },
  {
   "cell_type": "code",
   "execution_count": 13,
   "metadata": {},
   "outputs": [],
   "source": [
    "def computation(A, R, rho, U, M, G, t, dt):\n",
    "    \n",
    "    rho_FRW = rho_bg(t)\n",
    "\n",
    "    Ai = A.copy()\n",
    "    Ri = R.copy()\n",
    "    rhoi = rho.copy()\n",
    "    Ui = U.copy()\n",
    "    Mi = M.copy()\n",
    "    Gi = G.copy()   \n",
    "\n",
    "    Ri_r, rhoi_r, Ui_r = spatial_dev(Ri, rhoi, Ui)\n",
    "    rhoi_r[0] = 0.\n",
    "    rhoi_r[-1] = 0.\n",
    "\n",
    "    R, rho, U, M = rk4_step(Ai, Ri, rhoi, Ui, Mi, Ri_r, rhoi_r, Ui_r, Gi, t, dt)\n",
    "\n",
    "    R[-1] = 0.\n",
    "    U[-1] = 0.\n",
    "    M[-1] = 0.\n",
    "\n",
    "    A, G = static_sol(R, rho, U, M, rho_FRW)\n",
    "\n",
    "    return A, R, rho, U, M, G, rho_FRW\n",
    "    "
   ]
  },
  {
   "cell_type": "code",
   "execution_count": 15,
   "metadata": {},
   "outputs": [],
   "source": [
    "def evolve_system(A_init, R_init, rho_init, U_init, M_init, G_init, t0, tf):\n",
    "    \n",
    "    A_store = []\n",
    "    R_store = []\n",
    "    rho_store = []\n",
    "    U_store = []\n",
    "    M_store = []\n",
    "    G_store = []\n",
    "    t_store = []\n",
    "\n",
    "    A = A_init\n",
    "    R = R_init\n",
    "    rho = rho_init\n",
    "    U = U_init\n",
    "    M = M_init\n",
    "    G = G_init\n",
    "\n",
    "    A_store.append(A)\n",
    "    R_store.append(R)\n",
    "    rho_store.append(rho)\n",
    "    U_store.append(U)\n",
    "    M_store.append(M)\n",
    "    G_store.append(G)\n",
    "    t_store.append(t0)\n",
    "\n",
    "    t = t0\n",
    "    t_H = (a0**2)*t0*init_rm_N**2 # horizon crossing time\n",
    "\n",
    "    while t < tf:\n",
    "\n",
    "        dt = dt0*np.sqrt(t)\n",
    "        t+= dt\n",
    "        t_store.append(t)\n",
    "\n",
    "        A, R, rho, U, M, G, rho_FRW = computation(A, R, rho, U, M, G, t, dt)\n",
    "\n",
    "        A_store.append(A)\n",
    "        R_store.append(R)\n",
    "        rho_store.append(rho)\n",
    "        U_store.append(U)\n",
    "        M_store.append(M)\n",
    "        G_store.append(G)\n",
    "\n",
    "        if t > t_H:\n",
    "            if np.any(np.isnan(A)) or np.any(np.isnan(R)) or np.any(np.isnan(rho)) or np.any(np.isnan(U)) or np.any(np.isnan(M)) or np.any(np.isnan(G)):\n",
    "                print(\"NaN encountered in the solution at time {:.4f}\".format(t))\n",
    "                \n",
    "                break\n",
    "            \n",
    "    return A_store, R_store, rho_store, U_store, M_store, G_store, t_store\n",
    "        "
   ]
  },
  {
   "cell_type": "code",
   "execution_count": 15,
   "metadata": {},
   "outputs": [
    {
     "name": "stderr",
     "output_type": "stream",
     "text": [
      "C:\\Users\\PC\\AppData\\Local\\Temp/ipykernel_8944/427123059.py:6: RuntimeWarning: invalid value encountered in sqrt\n",
      "  Gamma = np.sqrt(1 + U**2 - 2.*frac_g)          #gamma factor\n",
      "C:\\Users\\PC\\AppData\\Local\\Temp/ipykernel_8944/3414178278.py:9: RuntimeWarning: invalid value encountered in divide\n",
      "  AH.append(2*M_hist[i]/R_hist[i])\n"
     ]
    },
    {
     "name": "stdout",
     "output_type": "stream",
     "text": [
      "NaN encountered in the solution at time 4974.1192\n"
     ]
    },
    {
     "data": {
      "image/png": "[encoded data removed]",
      "text/plain": [
       "<Figure size 432x288 with 1 Axes>"
      ]
     },
     "metadata": {
      "needs_background": "light"
     },
     "output_type": "display_data"
    }
   ],
   "source": [
    "dens_cont = 0.4976733\n",
    "amp_val = dens_cont/((r_m**2)*fw*K(r_m, 1))\n",
    "A_init, R_init, rho_init, U_init, M_init, G_init = init_perturbations(r_vals, amp_val)\n",
    "A_hist, R_hist, rho_hist, U_hist, M_hist, G_hist, t_hist = evolve_system(A_init, R_init, rho_init, U_init, M_init, G_init, t0, tf)\n",
    "\n",
    "AH = []\n",
    "\n",
    "for i in range(len(t_hist)):\n",
    "    AH.append(2*M_hist[i]/R_hist[i])\n",
    "\n",
    "sec_anim = 5\n",
    "frames = int(5*24)\n",
    "AH_anim = []\n",
    "for i in range(frames):\n",
    "    AH_anim.append(AH[int(np.floor(len(AH)/frames))*i])\n",
    "\n",
    "fig, ax = plt.subplots()\n",
    "line, = ax.plot([], [], lw=2)\n",
    "ax.set_xlim(np.min(r_vals), np.max(r_vals))\n",
    "\n",
    "def init():\n",
    "    line.set_data([], [])\n",
    "    return line,\n",
    "\n",
    "def update(frame):\n",
    "    y = AH_anim[frame]\n",
    "    y_lim = [y[i] for i in range(len(y)) if not np.isnan(y[i])]\n",
    "    line.set_data(r_vals, y)\n",
    "    ax.set_ylim(np.min(y_lim), np.max(y_lim)) \n",
    "    return line,\n",
    "\n",
    "ani = FuncAnimation(fig, update, frames=len(AH_anim),\n",
    "                    init_func=init, blit=True)\n",
    "\n",
    "ani.save('figures//AH_anim_0_4976733.mp4', fps=24, dpi=150, writer='ffmpeg')"
   ]
  },
  {
   "cell_type": "code",
   "execution_count": null,
   "metadata": {},
   "outputs": [
    {
     "name": "stderr",
     "output_type": "stream",
     "text": [
      "C:\\Users\\PC\\AppData\\Local\\Temp/ipykernel_8944/427123059.py:6: RuntimeWarning: invalid value encountered in sqrt\n",
      "  Gamma = np.sqrt(1 + U**2 - 2.*frac_g)          #gamma factor\n"
     ]
    },
    {
     "name": "stdout",
     "output_type": "stream",
     "text": [
      "NaN encountered in the solution at time 4693.4753\n"
     ]
    },
    {
     "name": "stderr",
     "output_type": "stream",
     "text": [
      "C:\\Users\\PC\\AppData\\Local\\Temp/ipykernel_8944/467448601.py:9: RuntimeWarning: invalid value encountered in divide\n",
      "  AH.append(2*M_hist[i]/R_hist[i])\n"
     ]
    },
    {
     "data": {
      "image/png": "[encoded data removed]",
      "text/plain": [
       "<Figure size 432x288 with 1 Axes>"
      ]
     },
     "metadata": {
      "needs_background": "light"
     },
     "output_type": "display_data"
    }
   ],
   "source": [
    "dens_cont = 0.49777\n",
    "amp_val = dens_cont/((r_m**2)*fw*K(r_m, 1))\n",
    "A_init, R_init, rho_init, U_init, M_init, G_init = init_perturbations(r_vals, amp_val)\n",
    "A_hist, R_hist, rho_hist, U_hist, M_hist, G_hist, t_hist = evolve_system(A_init, R_init, rho_init, U_init, M_init, G_init, t0, tf)\n",
    "\n",
    "AH = []\n",
    "\n",
    "for i in range(len(t_hist)):\n",
    "    AH.append(2*M_hist[i]/R_hist[i])\n",
    "\n",
    "sec_anim = 5\n",
    "frames = int(5*24)\n",
    "AH_anim = []\n",
    "for i in range(frames):\n",
    "    AH_anim.append(AH[int(np.floor(len(AH)/frames))*i])\n",
    "\n",
    "fig, ax = plt.subplots()\n",
    "line, = ax.plot([], [], lw=2)\n",
    "ax.set_xlim(np.min(r_vals), np.max(r_vals))\n",
    "\n",
    "def init():\n",
    "    line.set_data([], [])\n",
    "    return line,\n",
    "\n",
    "def update(frame):\n",
    "    y = AH_anim[frame]\n",
    "    y_lim = [y[i] for i in range(len(y)) if not np.isnan(y[i])]\n",
    "    line.set_data(r_vals, y)\n",
    "    ax.set_ylim(np.min(y_lim), np.max(y_lim)) \n",
    "    return line,\n",
    "\n",
    "ani = FuncAnimation(fig, update, frames=len(AH_anim),\n",
    "                    init_func=init, blit=True)\n",
    "\n",
    "ani.save('figures//AH_anim_0_49777.mp4', fps=24, dpi=150, writer='ffmpeg')"
   ]
  },
  {
   "cell_type": "code",
   "execution_count": 22,
   "metadata": {},
   "outputs": [
    {
     "name": "stderr",
     "output_type": "stream",
     "text": [
      "C:\\Users\\PC\\AppData\\Local\\Temp/ipykernel_8944/427123059.py:6: RuntimeWarning: invalid value encountered in sqrt\n",
      "  Gamma = np.sqrt(1 + U**2 - 2.*frac_g)          #gamma factor\n"
     ]
    },
    {
     "name": "stdout",
     "output_type": "stream",
     "text": [
      "NaN encountered in the solution at time 4974.1192\n"
     ]
    },
    {
     "data": {
      "image/png": "[encoded data removed]",
      "text/plain": [
       "<Figure size 432x288 with 1 Axes>"
      ]
     },
     "metadata": {
      "needs_background": "light"
     },
     "output_type": "display_data"
    }
   ],
   "source": [
    "dens_cont = 0.4976733\n",
    "amp_val = dens_cont/((r_m**2)*fw*K(r_m, 1))\n",
    "A_init, R_init, rho_init, U_init, M_init, G_init = init_perturbations(r_vals, amp_val)\n",
    "A_hist, R_hist, rho_hist, U_hist, M_hist, G_hist, t_hist = evolve_system(A_init, R_init, rho_init, U_init, M_init, G_init, t0, tf)\n",
    "\n",
    "sec_anim = 5\n",
    "frames = int(5*24)\n",
    "rho_anim = []\n",
    "for i in range(frames):\n",
    "    rho_anim.append(rho_hist[int(np.floor(len(rho_hist)/frames))*i])\n",
    "\n",
    "fig, ax = plt.subplots()\n",
    "line, = ax.plot([], [], lw=2)\n",
    "ax.set_xlim(np.min(r_vals), np.max(r_vals))\n",
    "\n",
    "def init():\n",
    "    line.set_data([], [])\n",
    "    return line,\n",
    "\n",
    "def update(frame):\n",
    "    y = rho_anim[frame]\n",
    "    y_lim = [y[i] for i in range(len(y)) if not np.isnan(y[i])]\n",
    "    line.set_data(r_vals, y)\n",
    "    ax.set_ylim(np.min(y_lim), np.max(y_lim)) \n",
    "    return line,\n",
    "\n",
    "ani = FuncAnimation(fig, update, frames=len(rho_anim),\n",
    "                    init_func=init, blit=True)\n",
    "\n",
    "ani.save('figures//rho_anim_0_4976733.mp4', fps=24, dpi=150, writer='ffmpeg')"
   ]
  },
  {
   "cell_type": "code",
   "execution_count": 15,
   "metadata": {},
   "outputs": [
    {
     "name": "stderr",
     "output_type": "stream",
     "text": [
      "C:\\Users\\PC\\AppData\\Local\\Temp/ipykernel_4736/427123059.py:3: RuntimeWarning: invalid value encountered in power\n",
      "  A = 1.*(rho_FRW/rho)**(w/(w+1.))\n"
     ]
    },
    {
     "name": "stdout",
     "output_type": "stream",
     "text": [
      "NaN encountered in the solution at time 5028.2897\n"
     ]
    },
    {
     "data": {
      "image/png": "[encoded data removed]",
      "text/plain": [
       "<Figure size 432x288 with 1 Axes>"
      ]
     },
     "metadata": {
      "needs_background": "light"
     },
     "output_type": "display_data"
    }
   ],
   "source": [
    "dens_cont = 0.497\n",
    "amp_val = dens_cont/((r_m**2)*fw*K(r_m, 1))\n",
    "A_init, R_init, rho_init, U_init, M_init, G_init = init_perturbations(r_vals, amp_val)\n",
    "A_hist, R_hist, rho_hist, U_hist, M_hist, G_hist, t_hist = evolve_system(A_init, R_init, rho_init, U_init, M_init, G_init, t0, tf)\n",
    "\n",
    "sec_anim = 5\n",
    "frames = int(5*24)\n",
    "rho_anim = []\n",
    "for i in range(frames):\n",
    "    rho_anim.append(rho_hist[int(np.floor(len(rho_hist)/frames))*i])\n",
    "\n",
    "fig, ax = plt.subplots()\n",
    "line, = ax.plot([], [], lw=2)\n",
    "ax.set_xlim(np.min(r_vals), np.max(r_vals))\n",
    "\n",
    "def init():\n",
    "    line.set_data([], [])\n",
    "    return line,\n",
    "\n",
    "def update(frame):\n",
    "    y = rho_anim[frame]\n",
    "    y_lim = [y[i] for i in range(len(y)) if not np.isnan(y[i])]\n",
    "    line.set_data(r_vals, y)\n",
    "    ax.set_ylim(np.min(y_lim), np.max(y_lim)) \n",
    "    return line,\n",
    "\n",
    "ani = FuncAnimation(fig, update, frames=len(rho_anim),\n",
    "                    init_func=init, blit=True)\n",
    "\n",
    "ani.save('figures//rho_anim_0_497.mp4', fps=24, dpi=150, writer='ffmpeg')"
   ]
  },
  {
   "cell_type": "code",
   "execution_count": 16,
   "metadata": {},
   "outputs": [
    {
     "name": "stderr",
     "output_type": "stream",
     "text": [
      "C:\\Users\\PC\\AppData\\Local\\Temp/ipykernel_4736/427123059.py:6: RuntimeWarning: invalid value encountered in sqrt\n",
      "  Gamma = np.sqrt(1 + U**2 - 2.*frac_g)          #gamma factor\n"
     ]
    },
    {
     "name": "stdout",
     "output_type": "stream",
     "text": [
      "NaN encountered in the solution at time 3980.7221\n"
     ]
    },
    {
     "data": {
      "image/png": "[encoded data removed]",
      "text/plain": [
       "<Figure size 432x288 with 1 Axes>"
      ]
     },
     "metadata": {
      "needs_background": "light"
     },
     "output_type": "display_data"
    }
   ],
   "source": [
    "dens_cont = 0.498\n",
    "amp_val = dens_cont/((r_m**2)*fw*K(r_m, 1))\n",
    "A_init, R_init, rho_init, U_init, M_init, G_init = init_perturbations(r_vals, amp_val)\n",
    "A_hist, R_hist, rho_hist, U_hist, M_hist, G_hist, t_hist = evolve_system(A_init, R_init, rho_init, U_init, M_init, G_init, t0, tf)\n",
    "\n",
    "sec_anim = 5\n",
    "frames = int(5*24)\n",
    "rho_anim = []\n",
    "for i in range(frames):\n",
    "    rho_anim.append(rho_hist[int(np.floor(len(rho_hist)/frames))*i])\n",
    "\n",
    "fig, ax = plt.subplots()\n",
    "line, = ax.plot([], [], lw=2)\n",
    "ax.set_xlim(np.min(r_vals), np.max(r_vals))\n",
    "\n",
    "def init():\n",
    "    line.set_data([], [])\n",
    "    return line,\n",
    "\n",
    "def update(frame):\n",
    "    y = rho_anim[frame]\n",
    "    y_lim = [y[i] for i in range(len(y)) if not np.isnan(y[i])]\n",
    "    line.set_data(r_vals, y)\n",
    "    ax.set_ylim(np.min(y_lim), np.max(y_lim)) \n",
    "    return line,\n",
    "\n",
    "ani = FuncAnimation(fig, update, frames=len(rho_anim),\n",
    "                    init_func=init, blit=True)\n",
    "\n",
    "ani.save('figures//rho_anim_0_498.mp4', fps=24, dpi=150, writer='ffmpeg')"
   ]
  },
  {
   "cell_type": "code",
   "execution_count": 23,
   "metadata": {},
   "outputs": [
    {
     "name": "stderr",
     "output_type": "stream",
     "text": [
      "C:\\Users\\PC\\AppData\\Local\\Temp/ipykernel_8944/427123059.py:6: RuntimeWarning: invalid value encountered in sqrt\n",
      "  Gamma = np.sqrt(1 + U**2 - 2.*frac_g)          #gamma factor\n"
     ]
    },
    {
     "name": "stdout",
     "output_type": "stream",
     "text": [
      "NaN encountered in the solution at time 4693.4753\n"
     ]
    },
    {
     "data": {
      "image/png": "[encoded data removed]",
      "text/plain": [
       "<Figure size 432x288 with 1 Axes>"
      ]
     },
     "metadata": {
      "needs_background": "light"
     },
     "output_type": "display_data"
    }
   ],
   "source": [
    "dens_cont = 0.49777\n",
    "amp_val = dens_cont/((r_m**2)*fw*K(r_m, 1))\n",
    "A_init, R_init, rho_init, U_init, M_init, G_init = init_perturbations(r_vals, amp_val)\n",
    "A_hist, R_hist, rho_hist, U_hist, M_hist, G_hist, t_hist = evolve_system(A_init, R_init, rho_init, U_init, M_init, G_init, t0, tf)\n",
    "\n",
    "sec_anim = 5\n",
    "frames = int(5*24)\n",
    "rho_anim = []\n",
    "for i in range(frames):\n",
    "    rho_anim.append(rho_hist[int(np.floor(len(rho_hist)/frames))*i])\n",
    "\n",
    "fig, ax = plt.subplots()\n",
    "line, = ax.plot([], [], lw=2)\n",
    "ax.set_xlim(np.min(r_vals), np.max(r_vals))\n",
    "\n",
    "def init():\n",
    "    line.set_data([], [])\n",
    "    return line,\n",
    "\n",
    "def update(frame):\n",
    "    y = rho_anim[frame]\n",
    "    y_lim = [y[i] for i in range(len(y)) if not np.isnan(y[i])]\n",
    "    line.set_data(r_vals, y)\n",
    "    ax.set_ylim(np.min(y_lim), np.max(y_lim)) \n",
    "    return line,\n",
    "\n",
    "ani = FuncAnimation(fig, update, frames=len(rho_anim),\n",
    "                    init_func=init, blit=True)\n",
    "\n",
    "ani.save('figures//rho_anim_0_49777.mp4', fps=24, dpi=150, writer='ffmpeg')"
   ]
  },
  {
   "cell_type": "code",
   "execution_count": null,
   "metadata": {},
   "outputs": [
    {
     "name": "stderr",
     "output_type": "stream",
     "text": [
      "C:\\Users\\PC\\AppData\\Local\\Temp/ipykernel_8944/427123059.py:6: RuntimeWarning: invalid value encountered in sqrt\n",
      "  Gamma = np.sqrt(1 + U**2 - 2.*frac_g)          #gamma factor\n"
     ]
    },
    {
     "name": "stdout",
     "output_type": "stream",
     "text": [
      "NaN encountered in the solution at time 4992.0493\n"
     ]
    },
    {
     "data": {
      "image/png": "[encoded data removed]",
      "text/plain": [
       "<Figure size 432x288 with 1 Axes>"
      ]
     },
     "metadata": {
      "needs_background": "light"
     },
     "output_type": "display_data"
    }
   ],
   "source": [
    "dens_cont = 0.4976735\n",
    "amp_val = dens_cont/((r_m**2)*fw*K(r_m, 1))\n",
    "A_init, R_init, rho_init, U_init, M_init, G_init = init_perturbations(r_vals, amp_val)\n",
    "A_hist, R_hist, rho_hist, U_hist, M_hist, G_hist, t_hist = evolve_system(A_init, R_init, rho_init, U_init, M_init, G_init, t0, tf)\n",
    "\n",
    "sec_anim = 5\n",
    "frames = int(5*24)\n",
    "rho_anim = []\n",
    "for i in range(frames):\n",
    "    rho_anim.append(rho_hist[int(np.floor(len(rho_hist)/frames))*i])\n",
    "\n",
    "fig, ax = plt.subplots()\n",
    "line, = ax.plot([], [], lw=2)\n",
    "ax.set_xlim(np.min(r_vals), np.max(r_vals))\n",
    "\n",
    "def init():\n",
    "    line.set_data([], [])\n",
    "    return line,\n",
    "\n",
    "def update(frame):\n",
    "    y = rho_anim[frame]\n",
    "    y_lim = [y[i] for i in range(len(y)) if not np.isnan(y[i])]\n",
    "    line.set_data(r_vals, y)\n",
    "    ax.set_ylim(np.min(y_lim), np.max(y_lim)) \n",
    "    return line,\n",
    "\n",
    "ani = FuncAnimation(fig, update, frames=len(rho_anim),\n",
    "                    init_func=init, blit=True)\n",
    "\n",
    "ani.save('figures//rho_anim_0_4976735.mp4', fps=24, dpi=150, writer='ffmpeg')"
   ]
  },
  {
   "cell_type": "code",
   "execution_count": 17,
   "metadata": {},
   "outputs": [
    {
     "name": "stderr",
     "output_type": "stream",
     "text": [
      "C:\\Users\\PC\\AppData\\Local\\Temp/ipykernel_17816/427123059.py:6: RuntimeWarning: invalid value encountered in sqrt\n",
      "  Gamma = np.sqrt(1 + U**2 - 2.*frac_g)          #gamma factor\n"
     ]
    },
    {
     "name": "stdout",
     "output_type": "stream",
     "text": [
      "NaN encountered in the solution at time 4529.1484\n"
     ]
    },
    {
     "data": {
      "image/png": "[encoded data removed]",
      "text/plain": [
       "<Figure size 432x288 with 1 Axes>"
      ]
     },
     "metadata": {
      "needs_background": "light"
     },
     "output_type": "display_data"
    }
   ],
   "source": [
    "dens_cont = 0.4977951\n",
    "amp_val = dens_cont/((r_m**2)*fw*K(r_m, 1))\n",
    "A_init, R_init, rho_init, U_init, M_init, G_init = init_perturbations(r_vals, amp_val)\n",
    "A_hist, R_hist, rho_hist, U_hist, M_hist, G_hist, t_hist = evolve_system(A_init, R_init, rho_init, U_init, M_init, G_init, t0, tf)\n",
    "\n",
    "sec_anim = 5\n",
    "frames = int(5*24)\n",
    "rho_anim = []\n",
    "for i in range(frames):\n",
    "    rho_anim.append(rho_hist[int(np.floor(len(rho_hist)/frames))*i])\n",
    "\n",
    "fig, ax = plt.subplots()\n",
    "line, = ax.plot([], [], lw=2)\n",
    "ax.set_xlim(np.min(r_vals), np.max(r_vals))\n",
    "\n",
    "def init():\n",
    "    line.set_data([], [])\n",
    "    return line,\n",
    "\n",
    "def update(frame):\n",
    "    y = rho_anim[frame]\n",
    "    y_lim = [y[i] for i in range(len(y)) if not np.isnan(y[i])]\n",
    "    line.set_data(r_vals, y)\n",
    "    ax.set_ylim(np.min(y_lim), np.max(y_lim)) \n",
    "    return line,\n",
    "\n",
    "ani = FuncAnimation(fig, update, frames=len(rho_anim),\n",
    "                    init_func=init, blit=True)\n",
    "\n",
    "ani.save('figures//rho_anim_0_4977951.mp4', fps=24, dpi=150, writer='ffmpeg')"
   ]
  },
  {
   "cell_type": "code",
   "execution_count": 18,
   "metadata": {},
   "outputs": [
    {
     "name": "stderr",
     "output_type": "stream",
     "text": [
      "C:\\Users\\PC\\AppData\\Local\\Temp/ipykernel_17816/427123059.py:6: RuntimeWarning: invalid value encountered in sqrt\n",
      "  Gamma = np.sqrt(1 + U**2 - 2.*frac_g)          #gamma factor\n"
     ]
    },
    {
     "name": "stdout",
     "output_type": "stream",
     "text": [
      "NaN encountered in the solution at time 4529.1484\n"
     ]
    },
    {
     "name": "stderr",
     "output_type": "stream",
     "text": [
      "C:\\Users\\PC\\AppData\\Local\\Temp/ipykernel_17816/124976103.py:14: RuntimeWarning: invalid value encountered in divide\n",
      "  comp_func.append(2*(M_hist[i]-Mbg_hist[i])/R_hist[i])\n"
     ]
    },
    {
     "data": {
      "image/png": "[encoded data removed]",
      "text/plain": [
       "<Figure size 432x288 with 1 Axes>"
      ]
     },
     "metadata": {
      "needs_background": "light"
     },
     "output_type": "display_data"
    }
   ],
   "source": [
    "dens_cont = 0.4977951\n",
    "amp_val = dens_cont/((r_m**2)*fw*K(r_m, 1))\n",
    "A_init, R_init, rho_init, U_init, M_init, G_init = init_perturbations(r_vals, amp_val)\n",
    "A_hist, R_hist, rho_hist, U_hist, M_hist, G_hist, t_hist = evolve_system(A_init, R_init, rho_init, U_init, M_init, G_init, t0, tf)\n",
    "\n",
    "Mbg_hist = []\n",
    "for t in t_hist:\n",
    "    _, _, _, _, _, _, Mbg, _ = bg_sol(t)\n",
    "    Mbg_hist.append(Mbg)\n",
    "\n",
    "comp_func = []\n",
    "\n",
    "for i in range(len(t_hist)):\n",
    "    comp_func.append(2*(M_hist[i]-Mbg_hist[i])/R_hist[i])\n",
    "\n",
    "sec_anim = 5\n",
    "frames = int(5*24)\n",
    "AH_anim = []\n",
    "for i in range(frames):\n",
    "    AH_anim.append(comp_func[int(np.floor(len(comp_func)/frames))*i])\n",
    "\n",
    "fig, ax = plt.subplots()\n",
    "line, = ax.plot([], [], lw=2)\n",
    "ax.set_xlim(np.min(r_vals), np.max(r_vals))\n",
    "\n",
    "def init():\n",
    "    line.set_data([], [])\n",
    "    return line,\n",
    "\n",
    "def update(frame):\n",
    "    y = AH_anim[frame]\n",
    "    y_lim = [y[i] for i in range(len(y)) if not np.isnan(y[i])]\n",
    "    line.set_data(r_vals, y)\n",
    "    ax.set_ylim(np.min(y_lim), np.max(y_lim)) \n",
    "    return line,\n",
    "\n",
    "ani = FuncAnimation(fig, update, frames=len(AH_anim),\n",
    "                    init_func=init, blit=True)\n",
    "\n",
    "ani.save('figures//comp_func_anim_0_4977951.mp4', fps=24, dpi=150, writer='ffmpeg')"
   ]
  },
  {
   "cell_type": "code",
   "execution_count": 16,
   "metadata": {},
   "outputs": [
    {
     "name": "stderr",
     "output_type": "stream",
     "text": [
      "C:\\Users\\PC\\AppData\\Local\\Temp/ipykernel_17816/427123059.py:6: RuntimeWarning: invalid value encountered in sqrt\n",
      "  Gamma = np.sqrt(1 + U**2 - 2.*frac_g)          #gamma factor\n"
     ]
    },
    {
     "name": "stdout",
     "output_type": "stream",
     "text": [
      "NaN encountered in the solution at time 4530.2252\n"
     ]
    },
    {
     "data": {
      "image/png": "[encoded data removed]",
      "text/plain": [
       "<Figure size 432x288 with 1 Axes>"
      ]
     },
     "metadata": {
      "needs_background": "light"
     },
     "output_type": "display_data"
    }
   ],
   "source": [
    "dens_cont = 0.4977949\n",
    "amp_val = dens_cont/((r_m**2)*fw*K(r_m, 1))\n",
    "A_init, R_init, rho_init, U_init, M_init, G_init = init_perturbations(r_vals, amp_val)\n",
    "A_hist, R_hist, rho_hist, U_hist, M_hist, G_hist, t_hist = evolve_system(A_init, R_init, rho_init, U_init, M_init, G_init, t0, tf)\n",
    "\n",
    "sec_anim = 5\n",
    "frames = int(5*24)\n",
    "rho_anim = []\n",
    "for i in range(frames):\n",
    "    rho_anim.append(rho_hist[int(np.floor(len(rho_hist)/frames))*i])\n",
    "\n",
    "fig, ax = plt.subplots()\n",
    "line, = ax.plot([], [], lw=2)\n",
    "ax.set_xlim(np.min(r_vals), np.max(r_vals))\n",
    "\n",
    "def init():\n",
    "    line.set_data([], [])\n",
    "    return line,\n",
    "\n",
    "def update(frame):\n",
    "    y = rho_anim[frame]\n",
    "    y_lim = [y[i] for i in range(len(y)) if not np.isnan(y[i])]\n",
    "    line.set_data(r_vals, y)\n",
    "    ax.set_ylim(np.min(y_lim), np.max(y_lim)) \n",
    "    return line,\n",
    "\n",
    "ani = FuncAnimation(fig, update, frames=len(rho_anim),\n",
    "                    init_func=init, blit=True)\n",
    "\n",
    "ani.save('figures//rho_anim_0_4977949.mp4', fps=24, dpi=150, writer='ffmpeg')"
   ]
  },
  {
   "cell_type": "code",
   "execution_count": null,
   "metadata": {},
   "outputs": [],
   "source": [
    "dens_cont = 0.4977949\n",
    "amp_val = dens_cont/((r_m**2)*fw*K(r_m, 1))\n",
    "A_init, R_init, rho_init, U_init, M_init, G_init = init_perturbations(r_vals, amp_val)\n",
    "A_hist, R_hist, rho_hist, U_hist, M_hist, G_hist, t_hist = evolve_system(A_init, R_init, rho_init, U_init, M_init, G_init, t0, tf)\n",
    "\n",
    "sec_anim = 5\n",
    "frames = int(5*24)\n",
    "rho_anim = []\n",
    "for i in range(frames):\n",
    "    rho_anim.append(rho_hist[int(np.floor(len(rho_hist)/frames))*i])\n",
    "\n",
    "fig, ax = plt.subplots()\n",
    "line, = ax.plot([], [], lw=2)\n",
    "ax.set_xlim(np.min(r_vals), np.max(r_vals))\n",
    "\n",
    "def init():\n",
    "    line.set_data([], [])\n",
    "    return line,\n",
    "\n",
    "def update(frame):\n",
    "    y = rho_anim[frame]\n",
    "    y_lim = [y[i] for i in range(len(y)) if not np.isnan(y[i])]\n",
    "    line.set_data(r_vals, y)\n",
    "    ax.set_ylim(np.min(y_lim), np.max(y_lim)) \n",
    "    return line,\n",
    "\n",
    "ani = FuncAnimation(fig, update, frames=len(rho_anim),\n",
    "                    init_func=init, blit=True)\n",
    "\n",
    "ani.save('figures//rho_anim_0_4977949.mp4', fps=24, dpi=150, writer='ffmpeg')"
   ]
  },
  {
   "cell_type": "code",
   "execution_count": 19,
   "metadata": {},
   "outputs": [
    {
     "name": "stderr",
     "output_type": "stream",
     "text": [
      "C:\\Users\\PC\\AppData\\Local\\Temp/ipykernel_17816/427123059.py:6: RuntimeWarning: invalid value encountered in sqrt\n",
      "  Gamma = np.sqrt(1 + U**2 - 2.*frac_g)          #gamma factor\n"
     ]
    },
    {
     "name": "stdout",
     "output_type": "stream",
     "text": [
      "NaN encountered in the solution at time 4530.2252\n"
     ]
    },
    {
     "name": "stderr",
     "output_type": "stream",
     "text": [
      "C:\\Users\\PC\\AppData\\Local\\Temp/ipykernel_17816/2182671986.py:14: RuntimeWarning: invalid value encountered in divide\n",
      "  comp_func.append(2*(M_hist[i]-Mbg_hist[i])/R_hist[i])\n"
     ]
    },
    {
     "data": {
      "image/png": "[encoded data removed]",
      "text/plain": [
       "<Figure size 432x288 with 1 Axes>"
      ]
     },
     "metadata": {
      "needs_background": "light"
     },
     "output_type": "display_data"
    }
   ],
   "source": [
    "dens_cont = 0.4977949\n",
    "amp_val = dens_cont/((r_m**2)*fw*K(r_m, 1))\n",
    "A_init, R_init, rho_init, U_init, M_init, G_init = init_perturbations(r_vals, amp_val)\n",
    "A_hist, R_hist, rho_hist, U_hist, M_hist, G_hist, t_hist = evolve_system(A_init, R_init, rho_init, U_init, M_init, G_init, t0, tf)\n",
    "\n",
    "Mbg_hist = []\n",
    "for t in t_hist:\n",
    "    _, _, _, _, _, _, Mbg, _ = bg_sol(t)\n",
    "    Mbg_hist.append(Mbg)\n",
    "\n",
    "comp_func = []\n",
    "\n",
    "for i in range(len(t_hist)):\n",
    "    comp_func.append(2*(M_hist[i]-Mbg_hist[i])/R_hist[i])\n",
    "\n",
    "sec_anim = 5\n",
    "frames = int(5*24)\n",
    "AH_anim = []\n",
    "for i in range(frames):\n",
    "    AH_anim.append(comp_func[int(np.floor(len(comp_func)/frames))*i])\n",
    "\n",
    "fig, ax = plt.subplots()\n",
    "line, = ax.plot([], [], lw=2)\n",
    "ax.set_xlim(np.min(r_vals), np.max(r_vals))\n",
    "\n",
    "def init():\n",
    "    line.set_data([], [])\n",
    "    return line,\n",
    "\n",
    "def update(frame):\n",
    "    y = AH_anim[frame]\n",
    "    y_lim = [y[i] for i in range(len(y)) if not np.isnan(y[i])]\n",
    "    line.set_data(r_vals, y)\n",
    "    ax.set_ylim(np.min(y_lim), np.max(y_lim)) \n",
    "    return line,\n",
    "\n",
    "ani = FuncAnimation(fig, update, frames=len(AH_anim),\n",
    "                    init_func=init, blit=True)\n",
    "\n",
    "ani.save('figures//comp_func_anim_0_4977949.mp4', fps=24, dpi=150, writer='ffmpeg')"
   ]
  },
  {
   "cell_type": "code",
   "execution_count": 20,
   "metadata": {},
   "outputs": [
    {
     "name": "stderr",
     "output_type": "stream",
     "text": [
      "C:\\Users\\PC\\AppData\\Local\\Temp/ipykernel_17816/427123059.py:3: RuntimeWarning: invalid value encountered in power\n",
      "  A = 1.*(rho_FRW/rho)**(w/(w+1.))\n"
     ]
    },
    {
     "name": "stdout",
     "output_type": "stream",
     "text": [
      "NaN encountered in the solution at time 12211.5371\n"
     ]
    },
    {
     "data": {
      "image/png": "[encoded data removed]",
      "text/plain": [
       "<Figure size 432x288 with 1 Axes>"
      ]
     },
     "metadata": {
      "needs_background": "light"
     },
     "output_type": "display_data"
    }
   ],
   "source": [
    "dens_cont =  0.49264174291069773\n",
    "amp_val = dens_cont/((r_m**2)*fw*K(r_m, 1))\n",
    "A_init, R_init, rho_init, U_init, M_init, G_init = init_perturbations(r_vals, amp_val)\n",
    "A_hist, R_hist, rho_hist, U_hist, M_hist, G_hist, t_hist = evolve_system(A_init, R_init, rho_init, U_init, M_init, G_init, t0, tf)\n",
    "\n",
    "sec_anim = 5\n",
    "frames = int(5*24)\n",
    "rho_anim = []\n",
    "for i in range(frames):\n",
    "    rho_anim.append(rho_hist[int(np.floor(len(rho_hist)/frames))*i])\n",
    "\n",
    "fig, ax = plt.subplots()\n",
    "line, = ax.plot([], [], lw=2)\n",
    "ax.set_xlim(np.min(r_vals), np.max(r_vals))\n",
    "\n",
    "def init():\n",
    "    line.set_data([], [])\n",
    "    return line,\n",
    "\n",
    "def update(frame):\n",
    "    y = rho_anim[frame]\n",
    "    y_lim = [y[i] for i in range(len(y)) if not np.isnan(y[i])]\n",
    "    line.set_data(r_vals, y)\n",
    "    ax.set_ylim(np.min(y_lim), np.max(y_lim)) \n",
    "    return line,\n",
    "\n",
    "ani = FuncAnimation(fig, update, frames=len(rho_anim),\n",
    "                    init_func=init, blit=True)\n",
    "\n",
    "ani.save('figures//rho_anim_0_49264174291069773.mp4', fps=24, dpi=150, writer='ffmpeg')"
   ]
  },
  {
   "cell_type": "code",
   "execution_count": 21,
   "metadata": {},
   "outputs": [
    {
     "name": "stderr",
     "output_type": "stream",
     "text": [
      "C:\\Users\\PC\\AppData\\Local\\Temp/ipykernel_17816/427123059.py:6: RuntimeWarning: invalid value encountered in sqrt\n",
      "  Gamma = np.sqrt(1 + U**2 - 2.*frac_g)          #gamma factor\n"
     ]
    },
    {
     "name": "stdout",
     "output_type": "stream",
     "text": [
      "NaN encountered in the solution at time 2852.5753\n"
     ]
    },
    {
     "data": {
      "image/png": "[encoded data removed]",
      "text/plain": [
       "<Figure size 432x288 with 1 Axes>"
      ]
     },
     "metadata": {
      "needs_background": "light"
     },
     "output_type": "display_data"
    }
   ],
   "source": [
    "dens_cont =  0.5005519667177872\n",
    "amp_val = dens_cont/((r_m**2)*fw*K(r_m, 1))\n",
    "A_init, R_init, rho_init, U_init, M_init, G_init = init_perturbations(r_vals, amp_val)\n",
    "A_hist, R_hist, rho_hist, U_hist, M_hist, G_hist, t_hist = evolve_system(A_init, R_init, rho_init, U_init, M_init, G_init, t0, tf)\n",
    "\n",
    "sec_anim = 5\n",
    "frames = int(5*24)\n",
    "rho_anim = []\n",
    "for i in range(frames):\n",
    "    rho_anim.append(rho_hist[int(np.floor(len(rho_hist)/frames))*i])\n",
    "\n",
    "fig, ax = plt.subplots()\n",
    "line, = ax.plot([], [], lw=2)\n",
    "ax.set_xlim(np.min(r_vals), np.max(r_vals))\n",
    "\n",
    "def init():\n",
    "    line.set_data([], [])\n",
    "    return line,\n",
    "\n",
    "def update(frame):\n",
    "    y = rho_anim[frame]\n",
    "    y_lim = [y[i] for i in range(len(y)) if not np.isnan(y[i])]\n",
    "    line.set_data(r_vals, y)\n",
    "    ax.set_ylim(np.min(y_lim), np.max(y_lim)) \n",
    "    return line,\n",
    "\n",
    "ani = FuncAnimation(fig, update, frames=len(rho_anim),\n",
    "                    init_func=init, blit=True)\n",
    "\n",
    "ani.save('figures//rho_anim_0_5005519667177872.mp4', fps=24, dpi=150, writer='ffmpeg')"
   ]
  },
  {
   "cell_type": "code",
   "execution_count": null,
   "metadata": {},
   "outputs": [
    {
     "name": "stderr",
     "output_type": "stream",
     "text": [
      "C:\\Users\\PC\\AppData\\Local\\Temp/ipykernel_8944/427123059.py:6: RuntimeWarning: invalid value encountered in sqrt\n",
      "  Gamma = np.sqrt(1 + U**2 - 2.*frac_g)          #gamma factor\n"
     ]
    },
    {
     "name": "stdout",
     "output_type": "stream",
     "text": [
      "NaN encountered in the solution at time 4974.1192\n"
     ]
    },
    {
     "name": "stderr",
     "output_type": "stream",
     "text": [
      "C:\\Users\\PC\\AppData\\Local\\Temp/ipykernel_8944/3865461409.py:14: RuntimeWarning: invalid value encountered in divide\n",
      "  comp_func.append(2*(M_hist[i]-Mbg_hist[i])/R_hist[i])\n"
     ]
    },
    {
     "data": {
      "image/png": "[encoded data removed]",
      "text/plain": [
       "<Figure size 432x288 with 1 Axes>"
      ]
     },
     "metadata": {
      "needs_background": "light"
     },
     "output_type": "display_data"
    }
   ],
   "source": [
    "dens_cont = 0.4976733\n",
    "amp_val = dens_cont/((r_m**2)*fw*K(r_m, 1))\n",
    "A_init, R_init, rho_init, U_init, M_init, G_init = init_perturbations(r_vals, amp_val)\n",
    "A_hist, R_hist, rho_hist, U_hist, M_hist, G_hist, t_hist = evolve_system(A_init, R_init, rho_init, U_init, M_init, G_init, t0, tf)\n",
    "\n",
    "Mbg_hist = []\n",
    "for t in t_hist:\n",
    "    _, _, _, _, _, _, Mbg, _ = bg_sol(t)\n",
    "    Mbg_hist.append(Mbg)\n",
    "\n",
    "comp_func = []\n",
    "\n",
    "for i in range(len(t_hist)):\n",
    "    comp_func.append(2*(M_hist[i]-Mbg_hist[i])/R_hist[i])\n",
    "\n",
    "sec_anim = 5\n",
    "frames = int(5*24)\n",
    "AH_anim = []\n",
    "for i in range(frames):\n",
    "    AH_anim.append(comp_func[int(np.floor(len(comp_func)/frames))*i])\n",
    "\n",
    "fig, ax = plt.subplots()\n",
    "line, = ax.plot([], [], lw=2)\n",
    "ax.set_xlim(np.min(r_vals), np.max(r_vals))\n",
    "\n",
    "def init():\n",
    "    line.set_data([], [])\n",
    "    return line,\n",
    "\n",
    "def update(frame):\n",
    "    y = AH_anim[frame]\n",
    "    y_lim = [y[i] for i in range(len(y)) if not np.isnan(y[i])]\n",
    "    line.set_data(r_vals, y)\n",
    "    ax.set_ylim(np.min(y_lim), np.max(y_lim)) \n",
    "    return line,\n",
    "\n",
    "ani = FuncAnimation(fig, update, frames=len(AH_anim),\n",
    "                    init_func=init, blit=True)\n",
    "\n",
    "ani.save('figures//comp_func_anim_0_4976733.mp4', fps=24, dpi=150, writer='ffmpeg')"
   ]
  },
  {
   "cell_type": "code",
   "execution_count": 28,
   "metadata": {},
   "outputs": [
    {
     "name": "stderr",
     "output_type": "stream",
     "text": [
      "C:\\Users\\PC\\AppData\\Local\\Temp/ipykernel_8944/427123059.py:6: RuntimeWarning: invalid value encountered in sqrt\n",
      "  Gamma = np.sqrt(1 + U**2 - 2.*frac_g)          #gamma factor\n"
     ]
    },
    {
     "name": "stdout",
     "output_type": "stream",
     "text": [
      "NaN encountered in the solution at time 4693.4753\n"
     ]
    },
    {
     "name": "stderr",
     "output_type": "stream",
     "text": [
      "C:\\Users\\PC\\AppData\\Local\\Temp/ipykernel_8944/972041131.py:14: RuntimeWarning: invalid value encountered in divide\n",
      "  comp_func.append(2*(M_hist[i]-Mbg_hist[i])/R_hist[i])\n"
     ]
    },
    {
     "data": {
      "image/png": "[encoded data removed]",
      "text/plain": [
       "<Figure size 432x288 with 1 Axes>"
      ]
     },
     "metadata": {
      "needs_background": "light"
     },
     "output_type": "display_data"
    }
   ],
   "source": [
    "dens_cont = 0.49777\n",
    "amp_val = dens_cont/((r_m**2)*fw*K(r_m, 1))\n",
    "A_init, R_init, rho_init, U_init, M_init, G_init = init_perturbations(r_vals, amp_val)\n",
    "A_hist, R_hist, rho_hist, U_hist, M_hist, G_hist, t_hist = evolve_system(A_init, R_init, rho_init, U_init, M_init, G_init, t0, tf)\n",
    "\n",
    "Mbg_hist = []\n",
    "for t in t_hist:\n",
    "    _, _, _, _, _, _, Mbg, _ = bg_sol(t)\n",
    "    Mbg_hist.append(Mbg)\n",
    "\n",
    "comp_func = []\n",
    "\n",
    "for i in range(len(t_hist)):\n",
    "    comp_func.append(2*(M_hist[i]-Mbg_hist[i])/R_hist[i])\n",
    "\n",
    "sec_anim = 5\n",
    "frames = int(5*24)\n",
    "AH_anim = []\n",
    "for i in range(frames):\n",
    "    AH_anim.append(comp_func[int(np.floor(len(comp_func)/frames))*i])\n",
    "\n",
    "fig, ax = plt.subplots()\n",
    "line, = ax.plot([], [], lw=2)\n",
    "ax.set_xlim(np.min(r_vals), np.max(r_vals))\n",
    "\n",
    "def init():\n",
    "    line.set_data([], [])\n",
    "    return line,\n",
    "\n",
    "def update(frame):\n",
    "    y = AH_anim[frame]\n",
    "    y_lim = [y[i] for i in range(len(y)) if not np.isnan(y[i])]\n",
    "    line.set_data(r_vals, y)\n",
    "    ax.set_ylim(np.min(y_lim), np.max(y_lim)) \n",
    "    return line,\n",
    "\n",
    "ani = FuncAnimation(fig, update, frames=len(AH_anim),\n",
    "                    init_func=init, blit=True)\n",
    "\n",
    "ani.save('figures//comp_func_anim_0_49777.mp4', fps=24, dpi=150, writer='ffmpeg')"
   ]
  },
  {
   "cell_type": "code",
   "execution_count": 29,
   "metadata": {},
   "outputs": [
    {
     "data": {
      "text/plain": [
       "\"\\nAnimation template\\n\\n\\nfig, ax = plt.subplots()\\nline, = ax.plot([], [], lw=2)\\nax.set_xlim(np.min(r_vals), np.max(r_vals))\\n\\ndef init():\\n    line.set_data([], [])\\n    return line,\\n\\ndef update(frame):\\n    y = rho_hist[frame]\\n    line.set_data(r_vals, y)\\n    ax.set_ylim(np.min(y), np.max(y)) \\n    return line,\\n\\nani = FuncAnimation(fig, update, frames=len(rho_anim),\\n                    init_func=init, blit=True)\\n\\nani.save('//figures//rho_hist_animation.mp4', fps=24, dpi=150, writer='ffmpeg')\\n\""
      ]
     },
     "execution_count": 29,
     "metadata": {},
     "output_type": "execute_result"
    }
   ],
   "source": [
    "\"\"\"\n",
    "Animation template\n",
    "\n",
    "\n",
    "fig, ax = plt.subplots()\n",
    "line, = ax.plot([], [], lw=2)\n",
    "ax.set_xlim(np.min(r_vals), np.max(r_vals))\n",
    "\n",
    "def init():\n",
    "    line.set_data([], [])\n",
    "    return line,\n",
    "\n",
    "def update(frame):\n",
    "    y = rho_hist[frame]\n",
    "    line.set_data(r_vals, y)\n",
    "    ax.set_ylim(np.min(y), np.max(y)) \n",
    "    return line,\n",
    "\n",
    "ani = FuncAnimation(fig, update, frames=len(rho_anim),\n",
    "                    init_func=init, blit=True)\n",
    "\n",
    "ani.save('//figures//rho_hist_animation.mp4', fps=24, dpi=150, writer='ffmpeg')\n",
    "\"\"\""
   ]
  }
 ],
 "metadata": {
  "kernelspec": {
   "display_name": "Python 3",
   "language": "python",
   "name": "python3"
  },
  "language_info": {
   "codemirror_mode": {
    "name": "ipython",
    "version": 3
   },
   "file_extension": ".py",
   "mimetype": "text/x-python",
   "name": "python",
   "nbconvert_exporter": "python",
   "pygments_lexer": "ipython3",
   "version": "3.9.13"
  }
 },
 "nbformat": 4,
 "nbformat_minor": 2
}
